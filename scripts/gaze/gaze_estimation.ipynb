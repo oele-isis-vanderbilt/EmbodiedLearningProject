{
 "cells": [
  {
   "cell_type": "code",
   "execution_count": 11,
   "metadata": {},
   "outputs": [],
   "source": [
    "# Imports\n",
    "import matplotlib.pyplot as plt\n",
    "import cv2\n",
    "import torch\n",
    "import pathlib\n",
    "import os\n",
    "from tqdm import tqdm\n",
    "import numpy as np\n",
    "from l2cs import Pipeline, render\n",
    "\n",
    "# Constants \n",
    "CWD = pathlib.Path(os.path.abspath(\"\"))\n",
    "GIT_ROOT = CWD.parent.parent\n",
    "DATA_DIR = GIT_ROOT / \"data\" / 'AIED2024'\n",
    "OUTPUT_DIR = DATA_DIR / 'gaze_vectors'\n",
    "\n",
    "os.makedirs(OUTPUT_DIR, exist_ok=True)"
   ]
  },
  {
   "cell_type": "code",
   "execution_count": 16,
   "metadata": {},
   "outputs": [],
   "source": [
    "gaze_pipeline = Pipeline(\n",
    "    weights=CWD / 'models' / 'L2CSNet_gaze360.pkl',\n",
    "    arch='ResNet50',\n",
    "    device=torch.device('cuda'), # or 'gpu'\n",
    "    include_detector=False\n",
    ")"
   ]
  },
  {
   "cell_type": "code",
   "execution_count": 17,
   "metadata": {},
   "outputs": [
    {
     "name": "stderr",
     "output_type": "stream",
     "text": [
      "100%|██████████| 1977/1977 [00:37<00:00, 53.12it/s] \n"
     ]
    },
    {
     "ename": "",
     "evalue": "",
     "output_type": "error",
     "traceback": [
      "\u001b[1;31mThe Kernel crashed while executing code in the the current cell or a previous cell. Please review the code in the cell(s) to identify a possible cause of the failure. Click <a href='https://aka.ms/vscodeJupyterKernelCrash'>here</a> for more info. View Jupyter <a href='command:jupyter.viewOutput'>log</a> for further details."
     ]
    }
   ],
   "source": [
    "dir = DATA_DIR / 'Cam1_SampleData Analysis' / 'C1Sample_cropped_images-20240117T212155Z-001' / 'C1Sample_cropped_images'\n",
    "\n",
    "for img_fp in tqdm(dir.iterdir(), total=len(list(dir.iterdir()))):\n",
    "    if img_fp.suffix != '.jpg':\n",
    "        continue\n",
    "\n",
    "    assert img_fp.exists()\n",
    "    frame = cv2.imread(str(img_fp))   \n",
    "\n",
    "    # Process frame and visualize\n",
    "    try:\n",
    "        results = gaze_pipeline.step(frame)\n",
    "    except Exception as e:\n",
    "        # print(e)\n",
    "        continue\n",
    "    draw = render(frame, results)\n",
    "\n",
    "    cv2.imshow('frame', draw)\n",
    "    if cv2.waitKey(1) & 0xFF == ord('q'):\n",
    "        break\n",
    "\n",
    "    # Save the data\n",
    "    img_name = img_fp.stem\n",
    "    np.save(OUTPUT_DIR / f'{img_name}_pitch.npy', results.pitch)\n",
    "    np.save(OUTPUT_DIR / f'{img_name}_yaw.npy', results.yaw)\n",
    "\n",
    "\n",
    "cv2.destroyAllWindows()"
   ]
  }
 ],
 "metadata": {
  "kernelspec": {
   "display_name": "ettk_dev",
   "language": "python",
   "name": "python3"
  },
  "language_info": {
   "codemirror_mode": {
    "name": "ipython",
    "version": 3
   },
   "file_extension": ".py",
   "mimetype": "text/x-python",
   "name": "python",
   "nbconvert_exporter": "python",
   "pygments_lexer": "ipython3",
   "version": "3.10.12"
  }
 },
 "nbformat": 4,
 "nbformat_minor": 2
}
