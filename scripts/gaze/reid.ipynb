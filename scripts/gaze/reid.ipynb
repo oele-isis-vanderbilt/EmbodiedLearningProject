{
 "cells": [
  {
   "cell_type": "code",
   "execution_count": 24,
   "metadata": {},
   "outputs": [],
   "source": [
    "# Imports\n",
    "import matplotlib.pyplot as plt\n",
    "import cv2\n",
    "import torch\n",
    "import pathlib\n",
    "import os\n",
    "from tqdm import tqdm\n",
    "import numpy as np\n",
    "import pandas as pd\n",
    "import logging\n",
    "import shutil\n",
    "\n",
    "os.environ['DEEPFACE_LOG_LEVEL'] = str(logging.ERROR)\n",
    "from deepface import DeepFace\n",
    "\n",
    "# Constants \n",
    "CWD = pathlib.Path(os.path.abspath(\"\"))\n",
    "GIT_ROOT = CWD.parent.parent\n",
    "DATA_DIR = GIT_ROOT / \"data\" / 'AIED2024'\n",
    "REID_DB = DATA_DIR / 'reid' / 'db'\n",
    "OUTPUT_DIR = DATA_DIR / 'reid' / 'tables'\n",
    "\n",
    "os.makedirs(OUTPUT_DIR, exist_ok=True)"
   ]
  },
  {
   "cell_type": "code",
   "execution_count": 41,
   "metadata": {},
   "outputs": [
    {
     "name": "stderr",
     "output_type": "stream",
     "text": [
      "100%|██████████| 13464/13464 [01:08<00:00, 196.83it/s]\n"
     ]
    }
   ],
   "source": [
    "# From video, create the cropped face images\n",
    "def generate_cropped_faces(video_file, tracking_file, output_dir):\n",
    "    assert video_file.exists()\n",
    "    assert tracking_file.exists()\n",
    "    os.makedirs(output_dir, exist_ok=True)\n",
    "\n",
    "    # Load data\n",
    "    cap = cv2.VideoCapture(str(video_file))\n",
    "    LENGTH = int(cap.get(cv2.CAP_PROP_FRAME_COUNT))\n",
    "    df = pd.read_csv(tracking_file)\n",
    "\n",
    "    for i in tqdm(range(LENGTH), total=LENGTH):\n",
    "        \n",
    "        # Load frame\n",
    "        ret, frame = cap.read()\n",
    "        if not ret:\n",
    "            break\n",
    "\n",
    "        # Get the detected faces\n",
    "        detected_faces = df[df['Frame'] == i]\n",
    "\n",
    "        for (j, row) in detected_faces.iterrows():\n",
    "            crop = frame[int(row['Y']):int(row['Y']+row['Height']), int(row['X']):int(row['X']+row['Width'])]\n",
    "            # cv2.imshow('crop', crop)\n",
    "            # cv2.waitKey(0)\n",
    "\n",
    "            cv2.imwrite(str(output_dir / f'frame_{i}_id_{int(row[\"Student_ID\"])}.png'), crop)\n",
    "\n",
    "generate_cropped_faces(\n",
    "    DATA_DIR / 'videos' / 'day1' / 'block-a-blue-day1-first-group-cam2.mp4',\n",
    "    DATA_DIR / 'trackings' / 'Day1Group1Camera2_with_student_IDs.csv',\n",
    "    DATA_DIR / 'reid' / 'cropped_faces' / 'd1g1'\n",
    ")\n",
    "\n",
    "cv2.destroyAllWindows()"
   ]
  },
  {
   "cell_type": "code",
   "execution_count": 45,
   "metadata": {},
   "outputs": [
    {
     "name": "stderr",
     "output_type": "stream",
     "text": [
      "100%|██████████| 13464/13464 [00:10<00:00, 1343.82it/s]"
     ]
    },
    {
     "name": "stdout",
     "output_type": "stream",
     "text": [
      "Df length: 78894, Video length: 13464\n",
      "Exists: 78894/78894 = 1.00\n"
     ]
    },
    {
     "name": "stderr",
     "output_type": "stream",
     "text": [
      "\n"
     ]
    }
   ],
   "source": [
    "# Sanity check\n",
    "def sanity_check(video_file: pathlib.Path, tracking_file: pathlib.Path, cropped_face_dir: pathlib.Path):\n",
    "    assert video_file.exists()\n",
    "    assert tracking_file.exists()\n",
    "    assert cropped_face_dir.exists()\n",
    "\n",
    "    # Load the file\n",
    "    df = pd.read_csv(tracking_file)\n",
    "    cap = cv2.VideoCapture(str(video_file))\n",
    "    LENGTH = int(cap.get(cv2.CAP_PROP_FRAME_COUNT))\n",
    "\n",
    "    # Get the face numpy array\n",
    "    exists = 0\n",
    "    for i in tqdm(range(LENGTH), total=LENGTH):\n",
    "        \n",
    "        # Get the detected faces\n",
    "        detected_faces = df[df['Frame'] == i]\n",
    "\n",
    "        for (j, row) in detected_faces.iterrows():\n",
    "            face_crop = cropped_face_dir / f\"frame_{i}_id_{int(row['Student_ID'])}.png\"\n",
    "            if face_crop.exists():\n",
    "                exists += 1\n",
    "\n",
    "    print(f\"Df length: {len(df)}, Video length: {LENGTH}\")\n",
    "    print(f\"Exists: {exists}/{len(df)} = {exists/len(df):.2f}\")\n",
    "\n",
    "sanity_check(\n",
    "    DATA_DIR / 'videos' / 'day1' / 'block-a-blue-day1-first-group-cam2.mp4',\n",
    "    DATA_DIR / 'trackings' / 'Day1Group1Camera2_with_student_IDs.csv',\n",
    "    DATA_DIR / 'reid' / 'cropped_faces' / 'd1g1'\n",
    ")"
   ]
  },
  {
   "cell_type": "code",
   "execution_count": 39,
   "metadata": {},
   "outputs": [
    {
     "name": "stdout",
     "output_type": "stream",
     "text": [
      "Total cropped images: 52141\n"
     ]
    }
   ],
   "source": [
    "# 52,141 items according to file system\n",
    "dir = DATA_DIR / 'reid' / 'cropped_faces' / 'd1g1'\n",
    "print(f\"Total cropped images: {len([x for x in dir.iterdir()])}\")"
   ]
  },
  {
   "cell_type": "code",
   "execution_count": 56,
   "metadata": {},
   "outputs": [
    {
     "name": "stderr",
     "output_type": "stream",
     "text": [
      "  0%|          | 62/13464 [00:20<1:13:51,  3.02it/s]"
     ]
    },
    {
     "name": "stdout",
     "output_type": "stream",
     "text": [
      "KeyboardInterrupt detected, saving data\n"
     ]
    },
    {
     "name": "stderr",
     "output_type": "stream",
     "text": [
      "\n"
     ]
    }
   ],
   "source": [
    "SIZE_REQ = 40\n",
    "CONFIDENCE_THRESHOLD = 0.5\n",
    "\n",
    "def reid_process(video_file: pathlib.Path, tracking_file: pathlib.Path, cropped_face_dir: pathlib.Path, output_file: pathlib.Path):\n",
    "    assert video_file.exists()\n",
    "    assert tracking_file.exists()\n",
    "    assert cropped_face_dir.exists()\n",
    "\n",
    "    # Load the file\n",
    "    df = pd.read_csv(tracking_file)\n",
    "    cap = cv2.VideoCapture(str(video_file))\n",
    "    LENGTH = int(cap.get(cv2.CAP_PROP_FRAME_COUNT))\n",
    "\n",
    "    # Create output folder to verify users REID\n",
    "    reid_folder = cropped_face_dir.parent / f\"{cropped_face_dir.name}_reid\"\n",
    "    if reid_folder.exists():\n",
    "        shutil.rmtree(reid_folder)\n",
    "    os.makedirs(reid_folder, exist_ok=True)\n",
    "    for id in ['1','2','3','4','5','6','sara','teacher']:\n",
    "        os.makedirs(reid_folder/id, exist_ok=True)\n",
    "\n",
    "    # Create reid container\n",
    "    reid_container = {'cropped_file': [], 'reid': [], 'confidence': [], 'comment': []}\n",
    "\n",
    "    # Get the face numpy array\n",
    "    for i in tqdm(range(LENGTH), total=LENGTH):\n",
    "\n",
    "        try:\n",
    "\n",
    "            # Get the detected faces\n",
    "            detected_faces = df[df['Frame'] == i]\n",
    "\n",
    "            id_to_reid_mapping = {}\n",
    "\n",
    "            for (j, row) in detected_faces.iterrows():\n",
    "\n",
    "                filename = f\"frame_{i}_id_{int(row['Student_ID'])}.png\"\n",
    "                face_crop = cropped_face_dir / filename\n",
    "                assert face_crop.exists()\n",
    "                crop = cv2.imread(str(face_crop))\n",
    "\n",
    "                # If the image is to small, not worth the trouble\n",
    "                h,w = crop.shape[:2]\n",
    "                if (h < SIZE_REQ or w < SIZE_REQ):\n",
    "                    reid_container['cropped_file'].append(face_crop.name)\n",
    "                    reid_container['reid'].append(None)\n",
    "                    reid_container['confidence'].append(None)\n",
    "                    reid_container['comment'].append(\"image size too small\")\n",
    "                    continue\n",
    "\n",
    "                # cv2.imshow('crop', crop)\n",
    "                # cv2.waitKey(0)\n",
    "\n",
    "                match_df = DeepFace.find(\n",
    "                    img_path=crop,\n",
    "                    db_path=REID_DB,\n",
    "                    model_name=\"Facenet512\",\n",
    "                    distance_metric=\"euclidean_l2\",\n",
    "                    enforce_detection=False,\n",
    "                    silent=True\n",
    "                )[0]\n",
    "\n",
    "                ids = match_df['identity'].str.split(\"/\").str.get(-2)\n",
    "\n",
    "                if len(ids) == 0:\n",
    "                    reid_container['cropped_file'].append(face_crop.name)\n",
    "                    reid_container['reid'].append(None)\n",
    "                    reid_container['confidence'].append(None)\n",
    "                    reid_container['comment'].append(\"Failed REID: No Match\")\n",
    "                    pass\n",
    "                else:\n",
    "\n",
    "                    # Success\n",
    "                    counts = ids.value_counts(normalize=True)\n",
    "                    maxid = counts.argmax()\n",
    "                    reid = counts.index[maxid]\n",
    "                    confidence = counts.iloc[maxid]\n",
    "\n",
    "                    if confidence < CONFIDENCE_THRESHOLD:\n",
    "                        reid_container['cropped_file'].append(face_crop.name)\n",
    "                        reid_container['reid'].append(None)\n",
    "                        reid_container['confidence'].append(None)\n",
    "                        reid_container['comment'].append(\"Failed REID: Low confidence\")\n",
    "                    else:\n",
    "                        reid_container['cropped_file'].append(face_crop.name)\n",
    "                        reid_container['reid'].append(reid)\n",
    "                        reid_container['confidence'].append(confidence)\n",
    "                        reid_container['comment'].append(\"\")\n",
    "\n",
    "                    # Save the image as well\n",
    "                    new_fp = reid_folder / str(reid) / filename\n",
    "                    cv2.imwrite(str(new_fp), crop)\n",
    "\n",
    "        except KeyboardInterrupt:\n",
    "            print(\"KeyboardInterrupt detected, saving data\")\n",
    "            break\n",
    "\n",
    "    # Save the container\n",
    "    reid_df = pd.DataFrame(reid_container)\n",
    "    reid_df.to_csv(output_file, index=False)\n",
    "\n",
    "reid_process(\n",
    "    DATA_DIR / 'videos' / 'day1' / 'block-a-blue-day1-first-group-cam2.mp4',\n",
    "    DATA_DIR / 'trackings' / 'Day1Group1Camera2_with_student_IDs.csv',\n",
    "    DATA_DIR / 'reid' / 'cropped_faces' / 'd1g1',\n",
    "    OUTPUT_DIR / 'd1g1-cam2.csv'\n",
    ")\n",
    "\n",
    "cv2.destroyAllWindows()"
   ]
  }
 ],
 "metadata": {
  "kernelspec": {
   "display_name": "ettk_dev",
   "language": "python",
   "name": "python3"
  },
  "language_info": {
   "codemirror_mode": {
    "name": "ipython",
    "version": 3
   },
   "file_extension": ".py",
   "mimetype": "text/x-python",
   "name": "python",
   "nbconvert_exporter": "python",
   "pygments_lexer": "ipython3",
   "version": "3.10.12"
  }
 },
 "nbformat": 4,
 "nbformat_minor": 2
}
