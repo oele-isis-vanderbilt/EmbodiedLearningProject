{
 "cells": [
  {
   "cell_type": "code",
   "execution_count": null,
   "metadata": {},
   "outputs": [],
   "source": [
    "#imports\n",
    "import pandas as pd\n",
    "import matplotlib.pyplot as plt\n",
    "import ast\n",
    "\n",
    "# Constants \n",
    "CWD = pathlib.Path(os.path.abspath(\"\"))\n",
    "GIT_ROOT = CWD.parent\n",
    "DATA_DIR = GIT_ROOT / \"data\" / 'SSMVSpring23'"
   ]
  },
  {
   "cell_type": "code",
   "execution_count": null,
   "id": "8fbf4c35",
   "metadata": {},
   "outputs": [],
   "source": [
    "# Step 1: Load the CSV File\n",
    "df = pd.read_csv('game_state.csv')"
   ]
  },
  {
   "cell_type": "code",
   "execution_count": null,
   "id": "dae39907",
   "metadata": {},
   "outputs": [],
   "source": [
    "# Step 2: Convert Datetime Column\n",
    "df['datetime'] = pd.to_datetime(df['datetime'], format='%Y-%m-%d %H:%M:%S.%f')"
   ]
  },
  {
   "cell_type": "code",
   "execution_count": null,
   "id": "9ae1761a",
   "metadata": {},
   "outputs": [],
   "source": [
    "# Step 3: Extract Position Information\n",
    "df['position'] = df['state'].apply(lambda x: ast.literal_eval(x)['participants']['pz6915']['position'])"
   ]
  },
  {
   "cell_type": "code",
   "execution_count": null,
   "id": "69394744",
   "metadata": {},
   "outputs": [],
   "source": [
    "# Step 4: Create Plots\n",
    "for timestamp, group in df.groupby(df['datetime'].dt.second):\n",
    "    plt.figure()\n",
    "    plt.title(f'Positions at Second {timestamp}')\n",
    "    \n",
    "    # Extract and plot positions for each ID\n",
    "    for idx, row in group.iterrows():\n",
    "        position = row['position']\n",
    "        plt.scatter(float(position[0]), float(position[1]), label=row['datetime'].strftime('%H:%M:%S'))\n",
    "    \n",
    "    plt.xlabel('X Position')\n",
    "    plt.ylabel('Y Position')\n",
    "    plt.legend()\n",
    "    plt.show()"
   ]
  }
 ],
 "metadata": {
  "language_info": {
   "name": "python"
  }
 },
 "nbformat": 4,
 "nbformat_minor": 5
}
