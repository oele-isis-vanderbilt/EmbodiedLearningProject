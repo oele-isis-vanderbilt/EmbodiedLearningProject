{
 "cells": [
  {
   "cell_type": "code",
   "execution_count": 6,
   "metadata": {},
   "outputs": [],
   "source": [
    "# Imports\n",
    "import pathlib\n",
    "import os\n",
    "from datetime import datetime\n",
    "from dataclasses import dataclass, field\n",
    "from typing import Dict, Literal, Optional, Tuple\n",
    "import json\n",
    "\n",
    "from dataclasses_json import DataClassJsonMixin\n",
    "import pandas as pd\n",
    "from tqdm import tqdm\n",
    "\n",
    "# Constants \n",
    "CWD = pathlib.Path(os.path.abspath(\"\"))\n",
    "GIT_ROOT = CWD.parent\n",
    "DATA_DIR = GIT_ROOT / \"data\" / 'PhotosynthesisFall2022'"
   ]
  },
  {
   "cell_type": "code",
   "execution_count": 12,
   "metadata": {},
   "outputs": [
    {
     "name": "stderr",
     "output_type": "stream",
     "text": [
      "100%|██████████| 1223479/1223479 [00:03<00:00, 349898.24it/s]\n"
     ]
    }
   ],
   "source": [
    "# Load .txt file\n",
    "game_logs = DATA_DIR / 'logs' / 'VU_GEM-STEP_NB_2022_Fall_AH_GroupB_Day11_221109_ComputerLogs' / '2022-1109-rtlog-095517.txt'\n",
    "interest_time = datetime.strptime('10:17:59.61', '%H:%M:%S.%f')\n",
    "output_file = DATA_DIR / 'logs' / 'test.txt'\n",
    "write_lines = []\n",
    "\n",
    "with open(game_logs, 'r') as f:\n",
    "    lines = f.readlines()\n",
    "\n",
    "    for line in tqdm(lines, total=len(lines)):\n",
    "        elements = line.split()\n",
    "        if len(elements) > 2 and elements[2] == 'NET:DISPLAY_LIST':\n",
    "            datetime_obj = datetime.strptime(elements[0].strip(), '%H:%M:%S:0%f')\n",
    "            if (datetime_obj - interest_time).total_seconds() < 0.1 and (datetime_obj - interest_time).total_seconds() > -0.1:\n",
    "                write_lines.append(line)\n",
    "                # print(elements)\n",
    "\n",
    "with open(output_file, 'w') as f:\n",
    "    for write_line in write_lines:\n",
    "        f.write(write_line + '\\n')\n"
   ]
  }
 ],
 "metadata": {
  "kernelspec": {
   "display_name": "ettk_dev",
   "language": "python",
   "name": "python3"
  },
  "language_info": {
   "codemirror_mode": {
    "name": "ipython",
    "version": 3
   },
   "file_extension": ".py",
   "mimetype": "text/x-python",
   "name": "python",
   "nbconvert_exporter": "python",
   "pygments_lexer": "ipython3",
   "version": "3.10.11"
  },
  "orig_nbformat": 4
 },
 "nbformat": 4,
 "nbformat_minor": 2
}
