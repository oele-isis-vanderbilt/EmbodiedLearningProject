{
 "cells": [
  {
   "cell_type": "code",
   "execution_count": 1,
   "metadata": {},
   "outputs": [],
   "source": [
    "# Imports\n",
    "import pathlib\n",
    "import os\n",
    "from dataclasses import dataclass, field\n",
    "from typing import Dict, Literal, Optional, Tuple\n",
    "import json\n",
    "\n",
    "import imutils\n",
    "import numpy as np\n",
    "import cv2\n",
    "from dataclasses_json import DataClassJsonMixin\n",
    "import pandas as pd\n",
    "from tqdm import tqdm\n",
    "\n",
    "# Constants \n",
    "CWD = pathlib.Path(os.path.abspath(\"\"))\n",
    "GIT_ROOT = CWD.parent\n",
    "DATA_DIR = GIT_ROOT / \"data\" / 'PhotosynthesisFall2022'"
   ]
  },
  {
   "cell_type": "code",
   "execution_count": 6,
   "metadata": {},
   "outputs": [],
   "source": [
    "# Load the data\n",
    "vid_file = DATA_DIR / 'videos' / 'day 13' / \"day13-screen-recording.mp4\"\n",
    "assert vid_file.exists()\n",
    "cap = cv2.VideoCapture(str(vid_file))\n",
    "fps = cap.get(cv2.CAP_PROP_FPS)\n",
    "length = int(cap.get(cv2.CAP_PROP_FRAME_COUNT))\n",
    "\n",
    "# Loading asset\n",
    "asset_file = DATA_DIR / 'assets' / 'correct_image.png'\n",
    "assert asset_file.exists()\n",
    "asset = cv2.imread(str(asset_file))"
   ]
  },
  {
   "cell_type": "code",
   "execution_count": 25,
   "metadata": {},
   "outputs": [
    {
     "name": "stderr",
     "output_type": "stream",
     "text": [
      "100%|██████████| 30293/30293 [04:43<00:00, 106.93it/s]\n"
     ]
    }
   ],
   "source": [
    "RECORD = True\n",
    "\n",
    "# Reset\n",
    "cap.set(cv2.CAP_PROP_POS_FRAMES, 0)\n",
    "\n",
    "if RECORD:\n",
    "    # Define the codec and create VideoWriter object\n",
    "    output_file = DATA_DIR / 'videos' / 'day 13' / 'day13-screen-recording-corrected.mp4'\n",
    "    fourcc = cv2.VideoWriter_fourcc(*'mp4v')\n",
    "    out = cv2.VideoWriter(str(output_file), fourcc, fps, (650, 566))\n",
    "\n",
    "for i in tqdm(range(length), total=length):\n",
    "    bg = np.zeros((566, 650, 3)).astype(np.uint8)\n",
    "    ret, frame = cap.read()\n",
    "    if not ret:\n",
    "        break\n",
    "\n",
    "    # Resize and pad\n",
    "    frame = imutils.resize(frame, width=int(650*0.9275))\n",
    "    bg[:frame.shape[0], :frame.shape[1]] = frame\n",
    "    frame = bg\n",
    "\n",
    "    # Draw the asset\n",
    "    # frame = cv2.addWeighted(frame, 1, asset, 0.5, 0)\n",
    "\n",
    "    cv2.imshow('frame', frame)\n",
    "    if cv2.waitKey(1) & 0xFF == ord('q'):\n",
    "        break\n",
    "\n",
    "    if RECORD:\n",
    "        out.write(frame)\n",
    "\n",
    "cv2.destroyAllWindows()\n",
    "if RECORD:\n",
    "    out.release()\n",
    "\n"
   ]
  }
 ],
 "metadata": {
  "kernelspec": {
   "display_name": "ettk_dev",
   "language": "python",
   "name": "python3"
  },
  "language_info": {
   "codemirror_mode": {
    "name": "ipython",
    "version": 3
   },
   "file_extension": ".py",
   "mimetype": "text/x-python",
   "name": "python",
   "nbconvert_exporter": "python",
   "pygments_lexer": "ipython3",
   "version": "3.10.11"
  },
  "orig_nbformat": 4
 },
 "nbformat": 4,
 "nbformat_minor": 2
}
