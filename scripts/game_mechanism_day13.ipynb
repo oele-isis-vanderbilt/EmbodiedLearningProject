{
 "cells": [
  {
   "cell_type": "code",
   "execution_count": 1,
   "metadata": {},
   "outputs": [],
   "source": [
    "# Imports\n",
    "import pathlib\n",
    "import os\n",
    "from dataclasses import dataclass, field\n",
    "from typing import Dict, Literal, Optional, Tuple\n",
    "import json\n",
    "\n",
    "import imutils\n",
    "import numpy as np\n",
    "import cv2\n",
    "from dataclasses_json import DataClassJsonMixin\n",
    "import pandas as pd\n",
    "from tqdm import tqdm\n",
    "\n",
    "# Constants \n",
    "CWD = pathlib.Path(os.path.abspath(\"\"))\n",
    "GIT_ROOT = CWD.parent\n",
    "DATA_DIR = GIT_ROOT / \"data\" / 'PhotosynthesisFall2022'"
   ]
  },
  {
   "cell_type": "code",
   "execution_count": 2,
   "metadata": {},
   "outputs": [],
   "source": [
    "# Game state reconstruction routines\n",
    "@dataclass\n",
    "class Participant(DataClassJsonMixin):\n",
    "    id: str\n",
    "    position: Tuple[float, float]\n",
    "    state: Literal['null', 'H2O', 'CO2', 'Sugar', 'O2', 'Thinking_H2O'] = 'null'\n",
    "\n",
    "@dataclass\n",
    "class EnvironmentState(DataClassJsonMixin):\n",
    "    sun_state: Optional[bool] = None\n",
    "\n",
    "@dataclass\n",
    "class GameState(DataClassJsonMixin):\n",
    "    participants: Dict[str, Participant] = field(default_factory=dict)\n",
    "    environment: EnvironmentState = field(default_factory=EnvironmentState)\n",
    "\n",
    "@dataclass\n",
    "class GamePhaseState(DataClassJsonMixin):\n",
    "    phase: Literal['before_game', 'molecule_select', 'normal', 'paused']"
   ]
  },
  {
   "cell_type": "code",
   "execution_count": 3,
   "metadata": {},
   "outputs": [],
   "source": [
    "# Helper functions\n",
    "def xy_transforms(xy: Tuple[float, float], w: int, h:int, c: Dict[str, float]) -> Tuple[float, float]:\n",
    "    x, y = xy\n",
    "    xx = int(((x+1)*h/2)*c['AFFINE'][0] + c['OFFSET'][0])\n",
    "    yy = int(((y+1)*w/2)*c['AFFINE'][1] + c['OFFSET'][1])\n",
    "    return (xx, yy)\n",
    "\n",
    "def render(game_state: GameState, frame: np.ndarray, c: Dict[str, float]):\n",
    "\n",
    "    if game_state.participants:\n",
    "        for p in game_state.participants.values():\n",
    "            if isinstance(p.position[0], str):\n",
    "                p.position = (eval(p.position[0]), eval(p.position[1]))\n",
    "            xy = xy_transforms(p.position, frame.shape[0], frame.shape[1], c)\n",
    "            frame = cv2.circle(frame, xy, 30, (0, 0, 255), 1)\n",
    "            frame = cv2.putText(\n",
    "                frame, \n",
    "                p.id, \n",
    "                (xy[0]-22, xy[1]-11), \n",
    "                cv2.FONT_HERSHEY_SIMPLEX, \n",
    "                0.4, \n",
    "                (0,0,0), \n",
    "                2, \n",
    "                cv2.LINE_AA\n",
    "            )\n",
    "            frame = cv2.putText(\n",
    "                frame, \n",
    "                p.id, \n",
    "                (xy[0]-22, xy[1]-11), \n",
    "                cv2.FONT_HERSHEY_SIMPLEX, \n",
    "                0.4, \n",
    "                (255,255,255), \n",
    "                1, \n",
    "                cv2.LINE_AA\n",
    "            )\n",
    "            frame = cv2.putText(\n",
    "                frame, \n",
    "                p.state, \n",
    "                (xy[0]-5*(len(p.state)), xy[1]+13), \n",
    "                cv2.FONT_HERSHEY_SIMPLEX, \n",
    "                0.6, \n",
    "                (0,0,0), \n",
    "                2,\n",
    "                cv2.LINE_AA\n",
    "            )\n",
    "            frame = cv2.putText(\n",
    "                frame, \n",
    "                p.state, \n",
    "                (xy[0]-5*(len(p.state)), xy[1]+13), \n",
    "                cv2.FONT_HERSHEY_SIMPLEX, \n",
    "                0.6, \n",
    "                (255,255,255), \n",
    "                1,\n",
    "                cv2.LINE_AA\n",
    "            )\n",
    "\n",
    "    return frame"
   ]
  },
  {
   "cell_type": "code",
   "execution_count": 4,
   "metadata": {},
   "outputs": [],
   "source": [
    "# Load the data\n",
    "vid_file = DATA_DIR / 'videos' / 'day 13' / \"day13-screen-recording-corrected.mp4\"\n",
    "assert vid_file.exists()\n",
    "cap = cv2.VideoCapture(str(vid_file))\n",
    "fps = cap.get(cv2.CAP_PROP_FPS)\n",
    "\n",
    "game_state_file = DATA_DIR / 'time_alignment' / 'day13_aligned_game_state.csv'\n",
    "assert game_state_file.exists()\n",
    "game_state_logs = pd.read_csv(game_state_file)\n",
    "\n",
    "annotated_events_file = DATA_DIR / 'videos' / 'day 13' / 'annotated_game_events.csv'\n",
    "assert annotated_events_file.exists()\n",
    "annotated_events = pd.read_csv(annotated_events_file)\n",
    "\n",
    "# Game logs\n",
    "TIME_OFFSET = 4*60 + 30.9\n",
    "game_logs = DATA_DIR / 'logs' / 'VU_GEM-STEP_NB_2022_Fall_AH_GroupB_Day13_221128_ComputerLogs' / 'game_logs.csv'\n",
    "assert game_logs.exists()\n",
    "game_logs = pd.read_csv(game_logs)\n",
    "game_logs = game_logs[game_logs['event_type'] == 'touch'].reset_index(drop=True)\n",
    "game_logs['datetime'] = pd.to_datetime(game_logs['datetime'], format='%Y-%m-%d %H:%M:%S.%f')\n",
    "game_logs['timestamp'] = (game_logs['datetime'] - game_logs['datetime'].iloc[0]).dt.total_seconds()\n",
    "game_logs['timestamp'] = game_logs['timestamp'] - TIME_OFFSET\n",
    "game_logs = game_logs[game_logs['timestamp'] >= 0].reset_index(drop=True)\n",
    "\n",
    "# Combine game and annotated events\n",
    "game_logs = pd.concat([game_logs, annotated_events])\n",
    "game_logs = game_logs.sort_values('timestamp')"
   ]
  },
  {
   "cell_type": "code",
   "execution_count": 14,
   "metadata": {},
   "outputs": [
    {
     "name": "stderr",
     "output_type": "stream",
     "text": [
      "  0%|          | 0/20000 [00:00<?, ?it/s]"
     ]
    },
    {
     "name": "stdout",
     "output_type": "stream",
     "text": [
      "{'src': 'pz6915', 'dst': '24'}\n",
      "{'src': 'pz6915', 'dst': '24'}\n",
      "{'src': 'pz6915', 'dst': '24'}\n",
      "{'src': 'pz6915', 'dst': '24'}\n",
      "{'src': 'pz6915', 'dst': '24'}\n",
      "{'src': 'pz6915', 'dst': '24'}\n",
      "{'src': 'pz6915', 'dst': '24'}\n",
      "{'src': 'pz6915', 'dst': '24'}\n",
      "{'src': 'pz6915', 'dst': '24'}\n",
      "{'src': 'pz6915', 'dst': '24'}\n",
      "{'src': 'pz6915', 'dst': '24'}\n",
      "{'src': 'pz6915', 'dst': '24'}\n",
      "{'src': 'pz6915', 'dst': '24'}\n",
      "{'src': 'pz6915', 'dst': '24'}\n",
      "{'src': 'pz6915', 'dst': '24'}\n",
      "{'src': 'pz6915', 'dst': '24'}\n",
      "{'src': 'pz6915', 'dst': '24'}\n",
      "{'src': 'pz6915', 'dst': '24'}\n",
      "{'src': 'pz6915', 'dst': '24'}\n",
      "{'src': 'pz6915', 'dst': '24'}\n",
      "{'src': 'pz6915', 'dst': '24'}\n",
      "{'src': 'pz6915', 'dst': '24'}\n",
      "{'src': 'pz6915', 'dst': '24'}\n",
      "{'src': 'pz6915', 'dst': '24'}\n",
      "{'src': 'pz6915', 'dst': '24'}\n",
      "{'src': 'pz6915', 'dst': '24'}\n",
      "{'src': 'pz6915', 'dst': '24'}\n",
      "{'src': 'pz6915', 'dst': '24'}\n",
      "{'src': 'pz6915', 'dst': '24'}\n",
      "{'src': 'pz6915', 'dst': '24'}\n",
      "{'src': 'pz6915', 'dst': '24'}\n",
      "{'src': 'pz6915', 'dst': '24'}\n",
      "{'src': 'pz6915', 'dst': '24'}\n",
      "{'src': 'pz6915', 'dst': '24'}\n",
      "{'src': 'pz6915', 'dst': '24'}\n",
      "{'src': 'pz6915', 'dst': '24'}\n",
      "{'src': 'pz6915', 'dst': '24'}\n",
      "{'src': 'pz6915', 'dst': '24'}\n",
      "{'src': 'pz6915', 'dst': '24'}\n",
      "{'src': 'pz6915', 'dst': '24'}\n",
      "{'src': 'pz6915', 'dst': '24'}\n",
      "{'src': 'pz6915', 'dst': '24'}\n",
      "{'src': 'pz6915', 'dst': '24'}\n",
      "{'src': 'pz6915', 'dst': '24'}\n",
      "{'src': 'pz6915', 'dst': '24'}\n",
      "{'src': 'pz6915', 'dst': '24'}\n",
      "{'src': 'pz6915', 'dst': '24'}\n",
      "{'src': 'pz6915', 'dst': '24'}\n",
      "{'src': 'pz6915', 'dst': '24'}\n",
      "{'src': 'pz6915', 'dst': '24'}\n",
      "{'src': 'pz6915', 'dst': '24'}\n",
      "{'src': 'pz6915', 'dst': '24'}\n",
      "{'src': 'pz6915', 'dst': '24'}\n",
      "{'src': 'pz6915', 'dst': '24'}\n",
      "{'src': 'pz6915', 'dst': '24'}\n",
      "{'src': 'pz6915', 'dst': '24'}\n",
      "{'src': 'pz6915', 'dst': '24'}\n",
      "{'src': 'pz6915', 'dst': '24'}\n",
      "{'src': 'pz6915', 'dst': '24'}\n",
      "{'src': 'pz6915', 'dst': '24'}\n",
      "{'src': 'pz6915', 'dst': '24'}\n",
      "{'src': 'pz6915', 'dst': '24'}\n",
      "{'src': 'pz6915', 'dst': '24'}\n",
      "{'src': 'pz6915', 'dst': '24'}\n",
      "{'src': 'pz6915', 'dst': '24'}\n",
      "{'src': 'pz6915', 'dst': '24'}\n",
      "{'src': 'pz6915', 'dst': '24'}\n",
      "{'src': 'pz6915', 'dst': '24'}\n",
      "{'src': 'pz6915', 'dst': '24'}\n",
      "{'src': 'pz6915', 'dst': '24'}\n",
      "{'src': 'pz6915', 'dst': '24'}\n",
      "{'src': 'pz6915', 'dst': '24'}\n",
      "{'src': 'pz6915', 'dst': '24'}\n",
      "{'src': 'pz6915', 'dst': '24'}\n",
      "{'src': 'pz6915', 'dst': '24'}\n",
      "{'src': 'pz6915', 'dst': '24'}\n",
      "{'src': 'pz6915', 'dst': '24'}\n",
      "{'src': 'pz6915', 'dst': '24'}\n",
      "{'src': 'pz6915', 'dst': '24'}\n",
      "{'src': 'pz6915', 'dst': '24'}\n",
      "{'src': 'pz6915', 'dst': '24'}\n",
      "{'src': 'pz6915', 'dst': '24'}\n",
      "{'src': 'pz6915', 'dst': '24'}\n",
      "{'src': 'pz6915', 'dst': '24'}\n",
      "{'src': 'pz6915', 'dst': '24'}\n",
      "{'src': 'pz6915', 'dst': '24'}\n",
      "{'src': 'pz6915', 'dst': '24'}\n",
      "{'src': 'pz6915', 'dst': '24'}\n",
      "{'src': 'pz6915', 'dst': '24'}\n",
      "{'src': 'pz6915', 'dst': '24'}\n",
      "{'src': 'pz6915', 'dst': '24'}\n",
      "{'src': 'pz6915', 'dst': '24'}\n",
      "{'src': 'pz6915', 'dst': '24'}\n",
      "{'src': 'pz6915', 'dst': '24'}\n",
      "{'src': 'pz6915', 'dst': '24'}\n",
      "{'src': 'pz6915', 'dst': '24'}\n",
      "{'src': 'pz6915', 'dst': '24'}\n",
      "{'src': 'pz6915', 'dst': '24'}\n",
      "{'src': 'pz6915', 'dst': '24'}\n",
      "{'src': 'pz6915', 'dst': '24'}\n",
      "{'src': 'pz6915', 'dst': '24'}\n",
      "{'src': 'pz6915', 'dst': '24'}\n",
      "{'src': 'pz6915', 'dst': '24'}\n",
      "{'src': 'pz6915', 'dst': '24'}\n",
      "{'src': 'pz6915', 'dst': '24'}\n",
      "{'src': 'pz6915', 'dst': '24'}\n",
      "{'src': 'pz6915', 'dst': '24'}\n",
      "{'src': 'pz6915', 'dst': '24'}\n",
      "{'src': 'pz6915', 'dst': '24'}\n",
      "{'src': 'pz6915', 'dst': '24'}\n",
      "{'src': 'pz6915', 'dst': '24'}\n",
      "{'src': 'pz6915', 'dst': '24'}\n",
      "{'src': 'pz6915', 'dst': '24'}\n",
      "{'src': 'pz6915', 'dst': '24'}\n",
      "{'src': 'pz6915', 'dst': '24'}\n",
      "{'src': 'pz6915', 'dst': '24'}\n",
      "{'src': 'pz6915', 'dst': '24'}\n",
      "{'src': 'pz6915', 'dst': '24'}\n",
      "{'src': 'pz6915', 'dst': '24'}\n",
      "{'src': 'pz6915', 'dst': '24'}\n",
      "{'src': 'pz6915', 'dst': '26'}\n",
      "{'src': 'pz6915', 'dst': '24'}\n",
      "{'src': 'pz6915', 'dst': '24'}\n",
      "{'src': 'pz6915', 'dst': '26'}\n",
      "{'src': 'pz6915', 'dst': '24'}\n",
      "{'src': 'pz6915', 'dst': '24'}\n",
      "{'src': 'pz6915', 'dst': '24'}\n",
      "{'src': 'pz6915', 'dst': '24'}\n",
      "{'src': 'pz6915', 'dst': '24'}\n",
      "{'src': 'pz6915', 'dst': '24'}\n",
      "{'src': 'pz6915', 'dst': '26'}\n",
      "{'src': 'pz6915', 'dst': '24'}\n",
      "{'src': 'pz6915', 'dst': '24'}\n",
      "{'src': 'pz6915', 'dst': '26'}\n",
      "{'src': 'pz6915', 'dst': '24'}\n",
      "{'src': 'pz6915', 'dst': '26'}\n",
      "{'src': 'pz6915', 'dst': '26'}\n",
      "{'src': 'pz6915', 'dst': '24'}\n",
      "{'src': 'pz6915', 'dst': '26'}\n",
      "{'src': 'pz6915', 'dst': '24'}\n",
      "{'src': 'pz6915', 'dst': '24'}\n",
      "{'src': 'pz6915', 'dst': '26'}\n",
      "{'src': 'pz6915', 'dst': '24'}\n",
      "{'src': 'pz6915', 'dst': '24'}\n",
      "{'src': 'pz6915', 'dst': '24'}\n",
      "{'src': 'pz6915', 'dst': '26'}\n",
      "{'src': 'pz6915', 'dst': '24'}\n",
      "{'src': 'pz6915', 'dst': '26'}\n",
      "{'src': 'pz6915', 'dst': '24'}\n",
      "{'src': 'pz6915', 'dst': '26'}\n",
      "{'src': 'pz6915', 'dst': '24'}\n",
      "{'src': 'pz6915', 'dst': '24'}\n",
      "{'src': 'pz6915', 'dst': '26'}\n",
      "{'src': 'pz6915', 'dst': '24'}\n",
      "{'src': 'pz6915', 'dst': '26'}\n",
      "{'src': 'pz6915', 'dst': '24'}\n",
      "{'src': 'pz6915', 'dst': '24'}\n",
      "{'src': 'pz6915', 'dst': '26'}\n",
      "{'src': 'pz6915', 'dst': '26'}\n",
      "{'src': 'pz6915', 'dst': '24'}\n",
      "{'src': 'pz6915', 'dst': '26'}\n",
      "{'src': 'pz6915', 'dst': '24'}\n",
      "{'src': 'pz6915', 'dst': '26'}\n",
      "{'src': 'pz6915', 'dst': '24'}\n",
      "{'src': 'pz6915', 'dst': '24'}\n",
      "{'src': 'pz6915', 'dst': '26'}\n",
      "{'src': 'pz6915', 'dst': '24'}\n",
      "{'src': 'pz6915', 'dst': '24'}\n",
      "{'src': 'pz6915', 'dst': '26'}\n",
      "{'src': 'pz6915', 'dst': '24'}\n",
      "{'src': 'pz6915', 'dst': '26'}\n",
      "{'src': 'pz6915', 'dst': '26'}\n",
      "{'src': 'pz6915', 'dst': '24'}\n",
      "{'src': 'pz6915', 'dst': '26'}\n",
      "{'src': 'pz6915', 'dst': '24'}\n",
      "{'src': 'pz6915', 'dst': '24'}\n",
      "{'src': 'pz6915', 'dst': '24'}\n",
      "{'src': 'pz6915', 'dst': '24'}\n",
      "{'src': 'pz6915', 'dst': '24'}\n",
      "{'src': 'pz6915', 'dst': '26'}\n",
      "{'src': 'pz6915', 'dst': '24'}\n",
      "{'src': 'pz6915', 'dst': '24'}\n",
      "{'src': 'pz6915', 'dst': '24'}\n",
      "{'src': 'pz6915', 'dst': '24'}\n",
      "{'src': 'pz6915', 'dst': '24'}\n",
      "{'src': 'pz6915', 'dst': '24'}\n",
      "{'src': 'pz6915', 'dst': '24'}\n",
      "{'src': 'pz6915', 'dst': '24'}\n",
      "{'src': 'pz6915', 'dst': '24'}\n",
      "{'src': 'pz6915', 'dst': '24'}\n",
      "{'src': 'pz6915', 'dst': '26'}\n",
      "{'src': 'pz6915', 'dst': '24'}\n",
      "{'src': 'pz6915', 'dst': '24'}\n",
      "{'src': 'pz6915', 'dst': '24'}\n",
      "{'src': 'pz6915', 'dst': '24'}\n",
      "{'src': 'pz6915', 'dst': '24'}\n",
      "{'src': 'pz6915', 'dst': '24'}\n",
      "{'src': 'pz6915', 'dst': '24'}\n",
      "{'src': 'pz6915', 'dst': '24'}\n",
      "{'src': 'pz6915', 'dst': '24'}\n",
      "{'src': 'pz6915', 'dst': '24'}\n",
      "{'src': 'pz6915', 'dst': '24'}\n",
      "{'src': 'pz6915', 'dst': '26'}\n",
      "{'src': 'pz6915', 'dst': '24'}\n",
      "{'src': 'pz6915', 'dst': '24'}\n",
      "{'src': 'pz6915', 'dst': '24'}\n",
      "{'src': 'pz6915', 'dst': '26'}\n",
      "{'src': 'pz6915', 'dst': '26'}\n",
      "{'src': 'pz6915', 'dst': '24'}\n",
      "{'src': 'pz6915', 'dst': '24'}\n",
      "{'src': 'pz6915', 'dst': '26'}\n",
      "{'src': 'pz6915', 'dst': '26'}\n",
      "{'src': 'pz6915', 'dst': '24'}\n",
      "{'src': 'pz6915', 'dst': '26'}\n",
      "{'src': 'pz6915', 'dst': '24'}\n",
      "{'src': 'pz6915', 'dst': '26'}\n",
      "{'src': 'pz6915', 'dst': '24'}\n",
      "{'src': 'pz6915', 'dst': '24'}\n",
      "{'src': 'pz6915', 'dst': '26'}\n",
      "{'src': 'pz6915', 'dst': '24'}\n",
      "{'src': 'pz6915', 'dst': '24'}\n",
      "{'src': 'pz6915', 'dst': '26'}\n",
      "{'src': 'pz6915', 'dst': '26'}\n",
      "{'src': 'pz6915', 'dst': '24'}\n",
      "{'src': 'pz6915', 'dst': '26'}\n",
      "{'src': 'pz6915', 'dst': '24'}\n",
      "{'src': 'pz6915', 'dst': '24'}\n",
      "{'src': 'pz6915', 'dst': '26'}\n",
      "{'src': 'pz6915', 'dst': '26'}\n",
      "{'src': 'pz6915', 'dst': '25'}\n",
      "{'src': 'pz6915', 'dst': '24'}\n",
      "{'src': 'pz6915', 'dst': '25'}\n",
      "{'src': 'pz6915', 'dst': '26'}\n",
      "{'src': 'pz6915', 'dst': '24'}\n",
      "{'src': 'pz6915', 'dst': '25'}\n",
      "{'src': 'pz6915', 'dst': '26'}\n",
      "{'src': 'pz6915', 'dst': '24'}\n",
      "{'src': 'pz6915', 'dst': '26'}\n",
      "{'src': 'pz6915', 'dst': '25'}\n",
      "{'src': 'pz6915', 'dst': '25'}\n",
      "{'src': 'pz6915', 'dst': '26'}\n",
      "{'src': 'pz6915', 'dst': '24'}\n",
      "{'src': 'pz6915', 'dst': '25'}\n",
      "{'src': 'pz6915', 'dst': '26'}\n",
      "{'src': 'pz6915', 'dst': '25'}\n",
      "{'src': 'pz6915', 'dst': '26'}\n",
      "{'src': 'pz6915', 'dst': '26'}\n",
      "{'src': 'pz6915', 'dst': '25'}\n",
      "{'src': 'pz6915', 'dst': '25'}\n",
      "{'src': 'pz6915', 'dst': '26'}\n",
      "{'src': 'pz6915', 'dst': '26'}\n",
      "{'src': 'pz6915', 'dst': '24'}\n",
      "{'src': 'pz6915', 'dst': '25'}\n",
      "{'src': 'pz6915', 'dst': '24'}\n",
      "{'src': 'pz6915', 'dst': '26'}\n",
      "{'src': 'pz6915', 'dst': '25'}\n",
      "{'src': 'pz6915', 'dst': '26'}\n",
      "{'src': 'pz6915', 'dst': '24'}\n",
      "{'src': 'pz6915', 'dst': '25'}\n",
      "{'src': 'pz6915', 'dst': '24'}\n",
      "{'src': 'pz6915', 'dst': '25'}\n",
      "{'src': 'pz6915', 'dst': '26'}\n",
      "{'src': 'pz6915', 'dst': '25'}\n",
      "{'src': 'pz6915', 'dst': '26'}\n",
      "{'src': 'pz6915', 'dst': '24'}\n",
      "{'src': 'pz6915', 'dst': '26'}\n",
      "{'src': 'pz6915', 'dst': '24'}\n",
      "{'src': 'pz6915', 'dst': '25'}\n",
      "{'src': 'pz6915', 'dst': '26'}\n",
      "{'src': 'pz6915', 'dst': '24'}\n",
      "{'src': 'pz6915', 'dst': '24'}\n",
      "{'src': 'pz6915', 'dst': '26'}\n",
      "{'src': 'pz6915', 'dst': '25'}\n",
      "{'src': 'pz6915', 'dst': '26'}\n",
      "{'src': 'pz6915', 'dst': '24'}\n",
      "{'src': 'pz6915', 'dst': '24'}\n",
      "{'src': 'pz6915', 'dst': '26'}\n",
      "{'src': 'pz6915', 'dst': '24'}\n",
      "{'src': 'pz6915', 'dst': '24'}\n",
      "{'src': 'pz6915', 'dst': '24'}\n",
      "{'src': 'pz6915', 'dst': '24'}\n",
      "{'src': 'pz6915', 'dst': '24'}\n",
      "{'src': 'pz6915', 'dst': '26'}\n",
      "{'src': 'pz6915', 'dst': '25'}\n",
      "{'src': 'pz6915', 'dst': '24'}\n",
      "{'src': 'pz6915', 'dst': '24'}\n",
      "{'src': 'pz6915', 'dst': '24'}\n",
      "{'src': 'pz6915', 'dst': '24'}\n",
      "{'src': 'pz6915', 'dst': '24'}\n",
      "{'src': 'pz6915', 'dst': '24'}\n",
      "{'src': 'pz6915', 'dst': '24'}\n",
      "{'src': 'pz6915', 'dst': '24'}\n",
      "{'src': 'pz6915', 'dst': '24'}\n",
      "{'src': 'pz6915', 'dst': '24'}\n",
      "{'src': 'pz6915', 'dst': '25'}\n",
      "{'src': 'pz6915', 'dst': '24'}\n",
      "{'src': 'pz6915', 'dst': '26'}\n",
      "{'src': 'pz6915', 'dst': '24'}\n",
      "{'src': 'pz6915', 'dst': '24'}\n",
      "{'src': 'pz6915', 'dst': '24'}\n",
      "{'src': 'pz6915', 'dst': '24'}\n",
      "{'src': 'pz6915', 'dst': '24'}\n",
      "{'src': 'pz6915', 'dst': '24'}\n",
      "{'src': 'pz6915', 'dst': '24'}\n",
      "{'src': 'pz6915', 'dst': '24'}\n",
      "{'src': 'pz6915', 'dst': '24'}\n",
      "{'src': 'pz6915', 'dst': '24'}\n",
      "{'src': 'pz6915', 'dst': '26'}\n",
      "{'src': 'pz6915', 'dst': '24'}\n",
      "{'src': 'pz6915', 'dst': '24'}\n",
      "{'src': 'pz6915', 'dst': '24'}\n",
      "{'src': 'pz6953', 'dst': '46'}\n",
      "{'src': 'pz6953', 'dst': '46'}\n",
      "{'src': 'pz6915', 'dst': '24'}\n",
      "{'src': 'pz6953', 'dst': '46'}\n",
      "{'src': 'pz6915', 'dst': '24'}\n",
      "{'src': 'pz6953', 'dst': '46'}\n",
      "{'src': 'pz6915', 'dst': '24'}\n",
      "{'src': 'pz6953', 'dst': '46'}\n",
      "{'src': 'pz6915', 'dst': '24'}\n",
      "{'src': 'pz6953', 'dst': '46'}\n",
      "{'src': 'pz6953', 'dst': '46'}\n",
      "{'src': 'pz6915', 'dst': '24'}\n",
      "{'src': 'pz6915', 'dst': '24'}\n",
      "{'src': 'pz6953', 'dst': '46'}\n",
      "{'src': 'pz6915', 'dst': '24'}\n",
      "{'src': 'pz6953', 'dst': '46'}\n",
      "{'src': 'pz6915', 'dst': '24'}\n",
      "{'src': 'pz6915', 'dst': '24'}\n",
      "{'src': 'pz6953', 'dst': '46'}\n",
      "{'src': 'pz6953', 'dst': '46'}\n",
      "{'src': 'pz6915', 'dst': '24'}\n",
      "{'src': 'pz6953', 'dst': '46'}\n",
      "{'src': 'pz6915', 'dst': '24'}\n",
      "{'src': 'pz6953', 'dst': '46'}\n",
      "{'src': 'pz6915', 'dst': '24'}\n",
      "{'src': 'pz6915', 'dst': '24'}\n",
      "{'src': 'pz6953', 'dst': '46'}\n",
      "{'src': 'pz6953', 'dst': '46'}\n",
      "{'src': 'pz6915', 'dst': '24'}\n",
      "{'src': 'pz6915', 'dst': '24'}\n",
      "{'src': 'pz6953', 'dst': '46'}\n",
      "{'src': 'pz6953', 'dst': '46'}\n",
      "{'src': 'pz6915', 'dst': '24'}\n",
      "{'src': 'pz6915', 'dst': '24'}\n",
      "{'src': 'pz6953', 'dst': '46'}\n",
      "{'src': 'pz6953', 'dst': '46'}\n",
      "{'src': 'pz6915', 'dst': '24'}\n",
      "{'src': 'pz6953', 'dst': '46'}\n",
      "{'src': 'pz6915', 'dst': '24'}\n",
      "{'src': 'pz6915', 'dst': '24'}\n",
      "{'src': 'pz6953', 'dst': '46'}\n",
      "{'src': 'pz6953', 'dst': '46'}\n",
      "{'src': 'pz6915', 'dst': '24'}\n",
      "{'src': 'pz6953', 'dst': '46'}\n",
      "{'src': 'pz6915', 'dst': '24'}\n",
      "{'src': 'pz6953', 'dst': '46'}\n",
      "{'src': 'pz6915', 'dst': '24'}\n",
      "{'src': 'pz6915', 'dst': '24'}\n",
      "{'src': 'pz6953', 'dst': '46'}\n",
      "{'src': 'pz6953', 'dst': '46'}\n",
      "{'src': 'pz6915', 'dst': '24'}\n",
      "{'src': 'pz6915', 'dst': '24'}\n",
      "{'src': 'pz6953', 'dst': '46'}\n",
      "{'src': 'pz6953', 'dst': '46'}\n",
      "{'src': 'pz6915', 'dst': '24'}\n",
      "{'src': 'pz6953', 'dst': '46'}\n",
      "{'src': 'pz6915', 'dst': '24'}\n",
      "{'src': 'pz6915', 'dst': '24'}\n",
      "{'src': 'pz6953', 'dst': '46'}\n",
      "{'src': 'pz6953', 'dst': '46'}\n",
      "{'src': 'pz6915', 'dst': '24'}\n",
      "{'src': 'pz6915', 'dst': '24'}\n",
      "{'src': 'pz6953', 'dst': '46'}\n",
      "{'src': 'pz6915', 'dst': '24'}\n",
      "{'src': 'pz6953', 'dst': '46'}\n",
      "{'src': 'pz6915', 'dst': '24'}\n",
      "{'src': 'pz6953', 'dst': '46'}\n",
      "{'src': 'pz6953', 'dst': '46'}\n",
      "{'src': 'pz6953', 'dst': '46'}\n",
      "{'src': 'pz6953', 'dst': '46'}\n",
      "{'src': 'pz6915', 'dst': '24'}\n",
      "{'src': 'pz6953', 'dst': '46'}\n",
      "{'src': 'pz6953', 'dst': '46'}\n",
      "{'src': 'pz6953', 'dst': '46'}\n",
      "{'src': 'pz6953', 'dst': '46'}\n",
      "{'src': 'pz6953', 'dst': '46'}\n",
      "{'src': 'pz6953', 'dst': '46'}\n",
      "{'src': 'pz6953', 'dst': '46'}\n",
      "{'src': 'pz6953', 'dst': '46'}\n",
      "{'src': 'pz6953', 'dst': '46'}\n",
      "{'src': 'pz6953', 'dst': '46'}\n",
      "{'src': 'pz6953', 'dst': '46'}\n",
      "{'src': 'pz6915', 'dst': '24'}\n",
      "{'src': 'pz6953', 'dst': '46'}\n",
      "{'src': 'pz6953', 'dst': '46'}\n",
      "{'src': 'pz6953', 'dst': '46'}\n",
      "{'src': 'pz6953', 'dst': '46'}\n",
      "{'src': 'pz6953', 'dst': '46'}\n",
      "{'src': 'pz6953', 'dst': '46'}\n",
      "{'src': 'pz6953', 'dst': '46'}\n",
      "{'src': 'pz6953', 'dst': '46'}\n",
      "{'src': 'pz6953', 'dst': '46'}\n",
      "{'src': 'pz6953', 'dst': '46'}\n",
      "{'src': 'pz6915', 'dst': '24'}\n",
      "{'src': 'pz6953', 'dst': '46'}\n",
      "{'src': 'pz6953', 'dst': '46'}\n",
      "{'src': 'pz6953', 'dst': '46'}\n",
      "{'src': 'pz6953', 'dst': '46'}\n",
      "{'src': 'pz6953', 'dst': '46'}\n",
      "{'src': 'pz6953', 'dst': '46'}\n",
      "{'src': 'pz6953', 'dst': '46'}\n",
      "{'src': 'pz6953', 'dst': '46'}\n",
      "{'src': 'pz6953', 'dst': '46'}\n",
      "{'src': 'pz6953', 'dst': '46'}\n",
      "{'src': 'pz6953', 'dst': '46'}\n",
      "{'src': 'pz6953', 'dst': '46'}\n",
      "{'src': 'pz6953', 'dst': '46'}\n",
      "{'src': 'pz6953', 'dst': '46'}\n",
      "{'src': 'pz6953', 'dst': '46'}\n",
      "{'src': 'pz6953', 'dst': '46'}\n",
      "{'src': 'pz6953', 'dst': '46'}\n",
      "{'src': 'pz6953', 'dst': '46'}\n",
      "{'src': 'pz6953', 'dst': '46'}\n",
      "{'src': 'pz6953', 'dst': '46'}\n",
      "{'src': 'pz6953', 'dst': '46'}\n",
      "{'src': 'pz6953', 'dst': '46'}\n",
      "{'src': 'pz6953', 'dst': '46'}\n",
      "{'src': 'pz6953', 'dst': '46'}\n",
      "{'src': 'pz6953', 'dst': '46'}\n",
      "{'src': 'pz6953', 'dst': '46'}\n",
      "{'src': 'pz6953', 'dst': '46'}\n",
      "{'src': 'pz6953', 'dst': '46'}\n",
      "{'src': 'pz6953', 'dst': '46'}\n",
      "{'src': 'pz6953', 'dst': '46'}\n",
      "{'src': 'pz6953', 'dst': '46'}\n",
      "{'src': 'pz6953', 'dst': '46'}\n",
      "{'src': 'pz6953', 'dst': '46'}\n",
      "{'src': 'pz6953', 'dst': '46'}\n",
      "{'src': 'pz6953', 'dst': '46'}\n",
      "{'src': 'pz6953', 'dst': '46'}\n",
      "{'src': 'pz6953', 'dst': '46'}\n",
      "{'src': 'pz6953', 'dst': '46'}\n",
      "{'src': 'pz6953', 'dst': '46'}\n",
      "{'src': 'pz6953', 'dst': '46'}\n",
      "{'src': 'pz6953', 'dst': '46'}\n",
      "{'src': 'pz6953', 'dst': '46'}\n",
      "{'src': 'pz6953', 'dst': '46'}\n",
      "{'src': 'pz6953', 'dst': '46'}\n",
      "{'src': 'pz6953', 'dst': '46'}\n",
      "{'src': 'pz6953', 'dst': '46'}\n",
      "{'src': 'pz6953', 'dst': '46'}\n",
      "{'src': 'pz6953', 'dst': '46'}\n",
      "{'src': 'pz6953', 'dst': '46'}\n",
      "{'src': 'pz6953', 'dst': '46'}\n",
      "{'src': 'pz6953', 'dst': '46'}\n",
      "{'src': 'pz6953', 'dst': '46'}\n",
      "{'src': 'pz6953', 'dst': '46'}\n",
      "{'src': 'pz6953', 'dst': '46'}\n",
      "{'src': 'pz6953', 'dst': '46'}\n",
      "{'src': 'pz6953', 'dst': '46'}\n",
      "{'src': 'pz6953', 'dst': '46'}\n",
      "{'src': 'pz6953', 'dst': '46'}\n",
      "{'src': 'pz6953', 'dst': '46'}\n",
      "{'src': 'pz6953', 'dst': '46'}\n",
      "{'src': 'pz6953', 'dst': '46'}\n",
      "{'src': 'pz6953', 'dst': '46'}\n",
      "{'src': 'pz6953', 'dst': '46'}\n",
      "{'src': 'pz6953', 'dst': '46'}\n",
      "{'src': 'pz6953', 'dst': '46'}\n",
      "{'src': 'pz6953', 'dst': '46'}\n",
      "{'src': 'pz6953', 'dst': '46'}\n",
      "{'src': 'pz6953', 'dst': '46'}\n",
      "{'src': 'pz6953', 'dst': '46'}\n",
      "{'src': 'pz6953', 'dst': '46'}\n",
      "{'src': 'pz6953', 'dst': '46'}\n",
      "{'src': 'pz6953', 'dst': '46'}\n",
      "{'src': 'pz6953', 'dst': '46'}\n",
      "{'src': 'pz6953', 'dst': '46'}\n",
      "{'src': 'pz6953', 'dst': '46'}\n",
      "{'src': 'pz6953', 'dst': '46'}\n",
      "{'src': 'pz6953', 'dst': '46'}\n",
      "{'src': 'pz6953', 'dst': '46'}\n",
      "{'src': 'pz6953', 'dst': '46'}\n",
      "{'src': 'pz6953', 'dst': '46'}\n",
      "{'src': 'pz6953', 'dst': '46'}\n",
      "{'src': 'pz6953', 'dst': '46'}"
     ]
    },
    {
     "name": "stderr",
     "output_type": "stream",
     "text": [
      "  0%|          | 1/20000 [00:06<36:49:06,  6.63s/it]"
     ]
    },
    {
     "name": "stdout",
     "output_type": "stream",
     "text": [
      "\n",
      "{'src': 'pz6953', 'dst': '46'}\n",
      "{'src': 'pz6953', 'dst': '46'}\n",
      "{'src': 'pz6953', 'dst': '46'}\n",
      "{'src': 'pz6953', 'dst': '46'}\n",
      "{'src': 'pz6953', 'dst': '46'}\n",
      "{'src': 'pz6953', 'dst': '46'}\n",
      "{'src': 'pz6953', 'dst': '46'}\n",
      "{'src': 'pz6953', 'dst': '46'}\n",
      "{'src': 'pz6953', 'dst': '46'}\n",
      "{'src': 'pz6953', 'dst': '46'}\n",
      "{'src': 'pz6953', 'dst': '46'}\n",
      "{'src': 'pz6953', 'dst': '46'}\n",
      "{'src': 'pz6953', 'dst': '46'}\n",
      "{'src': 'pz6953', 'dst': '46'}\n",
      "{'src': 'pz6953', 'dst': '46'}\n",
      "{'src': 'pz6953', 'dst': '46'}\n",
      "{'src': 'pz6953', 'dst': '46'}\n",
      "{'src': 'pz6953', 'dst': '46'}\n",
      "{'src': 'pz6953', 'dst': '46'}\n",
      "{'src': 'pz6953', 'dst': '46'}\n",
      "{'src': 'pz6953', 'dst': '46'}\n",
      "{'src': 'pz6953', 'dst': '46'}\n",
      "{'src': 'pz6953', 'dst': '46'}\n",
      "{'src': 'pz6953', 'dst': '46'}\n",
      "{'src': 'pz6953', 'dst': '46'}\n",
      "{'src': 'pz6953', 'dst': '46'}\n",
      "{'src': 'pz6953', 'dst': '46'}\n",
      "{'src': 'pz6953', 'dst': '46'}\n",
      "{'src': 'pz6953', 'dst': '46'}\n",
      "{'src': 'pz6953', 'dst': '46'}\n"
     ]
    },
    {
     "name": "stderr",
     "output_type": "stream",
     "text": [
      "  0%|          | 2/20000 [00:12<35:25:15,  6.38s/it]"
     ]
    },
    {
     "name": "stdout",
     "output_type": "stream",
     "text": [
      "{'src': 'pz6953', 'dst': '46'}\n"
     ]
    },
    {
     "name": "stderr",
     "output_type": "stream",
     "text": [
      "  0%|          | 3/20000 [00:14<23:14:00,  4.18s/it]"
     ]
    },
    {
     "name": "stdout",
     "output_type": "stream",
     "text": [
      "{'src': 'pz6953', 'dst': '46'}\n"
     ]
    },
    {
     "name": "stderr",
     "output_type": "stream",
     "text": [
      "  0%|          | 4/20000 [00:16<19:15:48,  3.47s/it]"
     ]
    },
    {
     "name": "stdout",
     "output_type": "stream",
     "text": [
      "{'src': 'pz6953', 'dst': '46'}\n"
     ]
    },
    {
     "name": "stderr",
     "output_type": "stream",
     "text": [
      "  0%|          | 5/20000 [00:17<14:38:42,  2.64s/it]"
     ]
    },
    {
     "name": "stdout",
     "output_type": "stream",
     "text": [
      "{'src': 'pz6953', 'dst': '46'}\n"
     ]
    },
    {
     "name": "stderr",
     "output_type": "stream",
     "text": [
      "  0%|          | 10/20000 [00:18<3:42:56,  1.49it/s]"
     ]
    },
    {
     "name": "stdout",
     "output_type": "stream",
     "text": [
      "{'src': 'pz6953', 'dst': '46'}\n",
      "{'src': 'pz6953', 'dst': '46'}\n",
      "{'src': 'pz6953', 'dst': '46'}\n",
      "{'src': 'pz6953', 'dst': '46'}\n",
      "{'src': 'pz6953', 'dst': '46'}\n",
      "{'src': 'pz6953', 'dst': '46'}\n",
      "{'src': 'pz6953', 'dst': '46'}\n",
      "{'src': 'pz6953', 'dst': '46'}\n",
      "{'src': 'pz6953', 'dst': '46'}\n"
     ]
    },
    {
     "name": "stderr",
     "output_type": "stream",
     "text": [
      "  0%|          | 18/20000 [00:18<1:14:46,  4.45it/s]"
     ]
    },
    {
     "name": "stdout",
     "output_type": "stream",
     "text": [
      "{'src': 'pz6953', 'dst': '46'}\n",
      "{'src': 'pz6953', 'dst': '46'}\n",
      "{'src': 'pz6953', 'dst': '46'}\n",
      "{'src': 'pz6953', 'dst': '46'}\n",
      "{'src': 'pz6953', 'dst': '46'}\n",
      "{'src': 'pz6953', 'dst': '46'}\n",
      "{'src': 'pz6953', 'dst': '46'}\n",
      "{'src': 'pz6953', 'dst': '46'}\n"
     ]
    },
    {
     "name": "stderr",
     "output_type": "stream",
     "text": [
      "  0%|          | 25/20000 [00:22<1:55:26,  2.88it/s]"
     ]
    },
    {
     "name": "stdout",
     "output_type": "stream",
     "text": [
      "{'src': 'pz6953', 'dst': '46'}\n",
      "{'src': 'pz6953', 'dst': '46'}\n",
      "{'src': 'pz6953', 'dst': '46'}\n",
      "{'src': 'pz6953', 'dst': '46'}\n",
      "{'src': 'pz6953', 'dst': '32'}\n",
      "{'src': 'pz6953', 'dst': '32'}\n",
      "{'src': 'pz6953', 'dst': '32'}\n"
     ]
    },
    {
     "name": "stderr",
     "output_type": "stream",
     "text": [
      "  0%|          | 33/20000 [00:22<56:18,  5.91it/s]  "
     ]
    },
    {
     "name": "stdout",
     "output_type": "stream",
     "text": [
      "{'src': 'pz6953', 'dst': '32'}\n",
      "{'src': 'pz6953', 'dst': '32'}\n",
      "{'src': 'pz6915', 'dst': '46'}\n",
      "{'src': 'pz6953', 'dst': '32'}\n",
      "{'src': 'pz6953', 'dst': '46'}\n",
      "{'src': 'pz6953', 'dst': '46'}\n",
      "{'src': 'pz6915', 'dst': '46'}\n",
      "{'src': 'pz6953', 'dst': '32'}\n",
      "{'src': 'pz6915', 'dst': '46'}\n",
      "{'src': 'pz6953', 'dst': '46'}\n"
     ]
    },
    {
     "name": "stderr",
     "output_type": "stream",
     "text": [
      "  0%|          | 40/20000 [00:23<33:47,  9.84it/s]"
     ]
    },
    {
     "name": "stdout",
     "output_type": "stream",
     "text": [
      "{'src': 'pz6953', 'dst': '46'}\n",
      "{'src': 'pz6915', 'dst': '46'}\n",
      "{'src': 'pz6915', 'dst': '46'}\n",
      "{'src': 'pz6953', 'dst': '46'}\n",
      "{'src': 'pz6953', 'dst': '46'}\n",
      "{'src': 'pz6915', 'dst': '46'}\n",
      "{'src': 'pz6915', 'dst': '46'}\n",
      "{'src': 'pz6953', 'dst': '46'}\n",
      "{'src': 'pz6953', 'dst': '46'}\n",
      "{'src': 'pz6915', 'dst': '46'}\n",
      "{'src': 'pz6953', 'dst': '46'}\n",
      "{'src': 'pz6915', 'dst': '46'}\n",
      "{'src': 'pz6953', 'dst': '46'}\n",
      "{'src': 'pz6915', 'dst': '46'}\n",
      "{'src': 'pz6953', 'dst': '32'}\n",
      "{'src': 'pz6953', 'dst': '46'}\n",
      "{'src': 'pz6915', 'dst': '46'}\n",
      "{'src': 'pz6915', 'dst': '46'}\n",
      "{'src': 'pz6953', 'dst': '46'}\n"
     ]
    },
    {
     "name": "stderr",
     "output_type": "stream",
     "text": [
      "  0%|          | 43/20000 [00:35<6:43:40,  1.21s/it]"
     ]
    },
    {
     "name": "stdout",
     "output_type": "stream",
     "text": [
      "{'src': 'pz6953', 'dst': '46'}\n",
      "{'src': 'pz6915', 'dst': '46'}\n"
     ]
    },
    {
     "name": "stderr",
     "output_type": "stream",
     "text": [
      "  0%|          | 48/20000 [00:36<3:53:00,  1.43it/s]"
     ]
    },
    {
     "name": "stdout",
     "output_type": "stream",
     "text": [
      "{'src': 'pz6953', 'dst': '46'}\n",
      "{'src': 'pz6915', 'dst': '46'}\n",
      "{'src': 'pz6915', 'dst': '46'}\n",
      "{'src': 'pz6953', 'dst': '46'}\n",
      "{'src': 'pz6953', 'dst': '46'}\n",
      "{'src': 'pz6915', 'dst': '46'}\n",
      "{'src': 'pz6915', 'dst': '46'}\n",
      "{'src': 'pz6953', 'dst': '46'}\n",
      "{'src': 'pz6953', 'dst': '46'}\n",
      "{'src': 'pz6915', 'dst': '46'}\n",
      "{'src': 'pz6953', 'dst': '46'}\n",
      "{'src': 'pz6915', 'dst': '46'}\n",
      "{'src': 'pz6915', 'dst': '46'}\n",
      "{'src': 'pz6953', 'dst': '46'}\n"
     ]
    },
    {
     "name": "stderr",
     "output_type": "stream",
     "text": [
      "  0%|          | 56/20000 [00:36<1:44:26,  3.18it/s]"
     ]
    },
    {
     "name": "stdout",
     "output_type": "stream",
     "text": [
      "{'src': 'pz6915', 'dst': '46'}\n",
      "{'src': 'pz6953', 'dst': '46'}\n",
      "{'src': 'pz6953', 'dst': '32'}\n",
      "{'src': 'pz6953', 'dst': '46'}\n",
      "{'src': 'pz6915', 'dst': '46'}\n",
      "{'src': 'pz6953', 'dst': '46'}\n",
      "{'src': 'pz6915', 'dst': '46'}\n",
      "{'src': 'pz6915', 'dst': '46'}\n",
      "{'src': 'pz6953', 'dst': '46'}\n",
      "{'src': 'pz6953', 'dst': '46'}\n",
      "{'src': 'pz6915', 'dst': '46'}\n",
      "{'src': 'pz6953', 'dst': '46'}\n",
      "{'src': 'pz6915', 'dst': '46'}\n",
      "{'src': 'pz6915', 'dst': '46'}\n",
      "{'src': 'pz6953', 'dst': '46'}\n"
     ]
    },
    {
     "name": "stderr",
     "output_type": "stream",
     "text": [
      "  0%|          | 64/20000 [00:36<53:23,  6.22it/s]  "
     ]
    },
    {
     "name": "stdout",
     "output_type": "stream",
     "text": [
      "{'src': 'pz6953', 'dst': '46'}\n",
      "{'src': 'pz6953', 'dst': '46'}\n",
      "{'src': 'pz6953', 'dst': '46'}\n",
      "{'src': 'pz6953', 'dst': '46'}\n",
      "{'src': 'pz6953', 'dst': '46'}\n",
      "{'src': 'pz6953', 'dst': '46'}\n",
      "{'src': 'pz6953', 'dst': '46'}\n"
     ]
    },
    {
     "name": "stderr",
     "output_type": "stream",
     "text": [
      "  0%|          | 68/20000 [00:37<39:53,  8.33it/s]"
     ]
    },
    {
     "name": "stdout",
     "output_type": "stream",
     "text": [
      "{'src': 'pz6953', 'dst': '46'}\n",
      "{'src': 'pz6953', 'dst': '46'}\n",
      "{'src': 'pz6953', 'dst': '46'}\n",
      "{'src': 'pz6953', 'dst': '46'}\n",
      "{'src': 'pz6953', 'dst': '46'}\n"
     ]
    },
    {
     "name": "stderr",
     "output_type": "stream",
     "text": [
      "  0%|          | 76/20000 [00:38<38:52,  8.54it/s]"
     ]
    },
    {
     "name": "stdout",
     "output_type": "stream",
     "text": [
      "{'src': 'pz6953', 'dst': '46'}\n",
      "{'src': 'pz6953', 'dst': '46'}\n",
      "{'src': 'pz6953', 'dst': '46'}\n",
      "{'src': 'pz6915', 'dst': '46'}\n",
      "{'src': 'pz6953', 'dst': '46'}\n",
      "{'src': 'pz6915', 'dst': '46'}\n",
      "{'src': 'pz6953', 'dst': '46'}\n",
      "{'src': 'pz6953', 'dst': '46'}\n",
      "{'src': 'pz6915', 'dst': '46'}\n"
     ]
    },
    {
     "name": "stderr",
     "output_type": "stream",
     "text": [
      "  0%|          | 80/20000 [00:38<30:05, 11.03it/s]"
     ]
    },
    {
     "name": "stdout",
     "output_type": "stream",
     "text": [
      "{'src': 'pz6953', 'dst': '46'}\n"
     ]
    },
    {
     "name": "stderr",
     "output_type": "stream",
     "text": [
      "  0%|          | 91/20000 [00:39<28:33, 11.62it/s]"
     ]
    },
    {
     "name": "stdout",
     "output_type": "stream",
     "text": [
      "{'src': 'pz6953', 'dst': '46'}\n",
      "{'src': 'pz6953', 'dst': '46'}\n",
      "{'src': 'pz6953', 'dst': '46'}\n"
     ]
    },
    {
     "name": "stderr",
     "output_type": "stream",
     "text": [
      "  0%|          | 95/20000 [00:39<22:46, 14.57it/s]"
     ]
    },
    {
     "name": "stdout",
     "output_type": "stream",
     "text": [
      "{'src': 'pz6953', 'dst': '46'}\n",
      "{'src': 'pz6953', 'dst': '46'}\n",
      "{'src': 'pz6953', 'dst': '46'}\n",
      "{'src': 'pz6953', 'dst': '46'}\n",
      "{'src': 'pz6953', 'dst': '46'}\n",
      "{'src': 'pz6953', 'dst': '46'}\n",
      "{'src': 'pz6953', 'dst': '46'}\n"
     ]
    },
    {
     "name": "stderr",
     "output_type": "stream",
     "text": [
      "  1%|          | 103/20000 [00:39<16:11, 20.47it/s]"
     ]
    },
    {
     "name": "stdout",
     "output_type": "stream",
     "text": [
      "{'src': 'pz6953', 'dst': '46'}\n",
      "{'src': 'pz6953', 'dst': '46'}\n",
      "{'src': 'pz6953', 'dst': '46'}\n",
      "{'src': 'pz6953', 'dst': '46'}\n",
      "{'src': 'pz6953', 'dst': '46'}\n",
      "{'src': 'pz6953', 'dst': '46'}\n",
      "{'src': 'pz6953', 'dst': '46'}\n",
      "{'src': 'pz6953', 'dst': '46'}\n"
     ]
    },
    {
     "name": "stderr",
     "output_type": "stream",
     "text": [
      "  1%|          | 111/20000 [00:39<12:59, 25.51it/s]"
     ]
    },
    {
     "name": "stdout",
     "output_type": "stream",
     "text": [
      "{'src': 'pz6953', 'dst': '46'}\n",
      "{'src': 'pz6953', 'dst': '46'}\n",
      "{'src': 'pz6953', 'dst': '46'}\n",
      "{'src': 'pz6953', 'dst': '46'}\n",
      "{'src': 'pz6953', 'dst': '46'}\n",
      "{'src': 'pz6953', 'dst': '46'}\n",
      "{'src': 'pz6953', 'dst': '46'}\n",
      "{'src': 'pz6953', 'dst': '46'}\n",
      "{'src': 'pz6953', 'dst': '46'}\n",
      "{'src': 'pz6953', 'dst': '46'}\n",
      "{'src': 'pz6953', 'dst': '46'}\n"
     ]
    },
    {
     "name": "stderr",
     "output_type": "stream",
     "text": [
      "  1%|          | 115/20000 [00:47<3:15:52,  1.69it/s]"
     ]
    },
    {
     "name": "stdout",
     "output_type": "stream",
     "text": [
      "{'src': 'pz6953', 'dst': '46'}\n",
      "{'src': 'pz6953', 'dst': '46'}\n",
      "{'src': 'pz6953', 'dst': '46'}\n"
     ]
    },
    {
     "name": "stderr",
     "output_type": "stream",
     "text": [
      "  1%|          | 126/20000 [00:49<1:36:22,  3.44it/s]"
     ]
    },
    {
     "name": "stdout",
     "output_type": "stream",
     "text": [
      "{'src': 'pz6953', 'dst': '46'}\n",
      "{'src': 'pz6953', 'dst': '46'}\n",
      "{'src': 'pz6953', 'dst': '46'}\n",
      "{'src': 'pz6953', 'dst': '46'}\n",
      "{'src': 'pz6953', 'dst': '46'}\n",
      "{'src': 'pz6953', 'dst': '46'}\n",
      "{'src': 'pz6953', 'dst': '46'}\n",
      "{'src': 'pz6953', 'dst': '46'}\n"
     ]
    },
    {
     "name": "stderr",
     "output_type": "stream",
     "text": [
      "  1%|          | 129/20000 [00:58<5:22:11,  1.03it/s]"
     ]
    },
    {
     "name": "stdout",
     "output_type": "stream",
     "text": [
      "{'src': 'pz6953', 'dst': '46'}\n"
     ]
    },
    {
     "name": "stderr",
     "output_type": "stream",
     "text": [
      "  1%|          | 135/20000 [00:58<3:02:09,  1.82it/s]"
     ]
    },
    {
     "name": "stdout",
     "output_type": "stream",
     "text": [
      "{'src': 'pz6953', 'dst': '46'}\n",
      "{'src': 'pz6953', 'dst': '46'}\n",
      "{'src': 'pz6953', 'dst': '46'}\n",
      "{'src': 'pz6953', 'dst': '46'}\n",
      "{'src': 'pz6953', 'dst': '46'}\n",
      "{'src': 'pz6953', 'dst': '46'}\n",
      "{'src': 'pz6953', 'dst': '46'}\n",
      "{'src': 'pz6953', 'dst': '46'}\n"
     ]
    },
    {
     "name": "stderr",
     "output_type": "stream",
     "text": [
      "  1%|          | 139/20000 [00:59<2:04:12,  2.67it/s]"
     ]
    },
    {
     "name": "stdout",
     "output_type": "stream",
     "text": [
      "{'src': 'pz6953', 'dst': '46'}\n",
      "{'src': 'pz6915', 'dst': '46'}\n",
      "{'src': 'pz6953', 'dst': '46'}\n",
      "{'src': 'pz6915', 'dst': '46'}\n",
      "{'src': 'pz6915', 'dst': '46'}\n",
      "{'src': 'pz6953', 'dst': '46'}\n",
      "{'src': 'pz6953', 'dst': '46'}\n",
      "{'src': 'pz6915', 'dst': '46'}\n",
      "{'src': 'pz6953', 'dst': '46'}\n",
      "{'src': 'pz6953', 'dst': '46'}\n",
      "{'src': 'pz6915', 'dst': '46'}\n"
     ]
    },
    {
     "name": "stderr",
     "output_type": "stream",
     "text": [
      "  1%|          | 146/20000 [00:59<1:18:09,  4.23it/s]"
     ]
    },
    {
     "name": "stdout",
     "output_type": "stream",
     "text": [
      "{'src': 'pz6953', 'dst': '46'}\n",
      "{'src': 'pz6915', 'dst': '46'}\n",
      "{'src': 'pz6915', 'dst': '46'}\n",
      "{'src': 'pz6953', 'dst': '46'}\n",
      "{'src': 'pz6953', 'dst': '46'}\n",
      "{'src': 'pz6915', 'dst': '46'}\n",
      "{'src': 'pz6953', 'dst': '46'}\n",
      "{'src': 'pz6953', 'dst': '46'}\n",
      "{'src': 'pz6915', 'dst': '46'}\n",
      "{'src': 'pz6953', 'dst': '46'}\n",
      "{'src': 'pz6953', 'dst': '46'}\n"
     ]
    },
    {
     "name": "stderr",
     "output_type": "stream",
     "text": [
      "  1%|          | 154/20000 [01:00<41:31,  7.97it/s]  "
     ]
    },
    {
     "name": "stdout",
     "output_type": "stream",
     "text": [
      "{'src': 'pz6953', 'dst': '46'}\n",
      "{'src': 'pz6953', 'dst': '46'}\n",
      "{'src': 'pz6953', 'dst': '46'}\n",
      "{'src': 'pz6953', 'dst': '46'}\n",
      "{'src': 'pz6953', 'dst': '46'}\n",
      "{'src': 'pz6953', 'dst': '46'}\n",
      "{'src': 'pz6953', 'dst': '46'}\n"
     ]
    },
    {
     "name": "stderr",
     "output_type": "stream",
     "text": [
      "  1%|          | 162/20000 [01:00<25:02, 13.20it/s]"
     ]
    },
    {
     "name": "stdout",
     "output_type": "stream",
     "text": [
      "{'src': 'pz6953', 'dst': '46'}\n",
      "{'src': 'pz6953', 'dst': '46'}\n",
      "{'src': 'pz6915', 'dst': '46'}\n",
      "{'src': 'pz6953', 'dst': '46'}\n",
      "{'src': 'pz6953', 'dst': '46'}\n",
      "{'src': 'pz6953', 'dst': '46'}\n",
      "{'src': 'pz6915', 'dst': '46'}\n",
      "{'src': 'pz6953', 'dst': '46'}\n",
      "{'src': 'pz6915', 'dst': '46'}\n",
      "{'src': 'pz6953', 'dst': '46'}\n",
      "{'src': 'pz6915', 'dst': '46'}\n",
      "{'src': 'pz6953', 'dst': '46'}\n",
      "{'src': 'pz6915', 'dst': '46'}\n"
     ]
    },
    {
     "name": "stderr",
     "output_type": "stream",
     "text": [
      "  1%|          | 170/20000 [01:00<17:17, 19.11it/s]"
     ]
    },
    {
     "name": "stdout",
     "output_type": "stream",
     "text": [
      "{'src': 'pz6953', 'dst': '46'}\n",
      "{'src': 'pz6915', 'dst': '46'}\n",
      "{'src': 'pz6953', 'dst': '46'}\n",
      "{'src': 'pz6915', 'dst': '46'}\n",
      "{'src': 'pz6915', 'dst': '46'}\n",
      "{'src': 'pz6953', 'dst': '46'}\n",
      "{'src': 'pz6953', 'dst': '46'}\n",
      "{'src': 'pz6915', 'dst': '46'}\n",
      "{'src': 'pz6915', 'dst': '46'}\n",
      "{'src': 'pz6953', 'dst': '46'}\n",
      "{'src': 'pz6915', 'dst': '46'}\n",
      "{'src': 'pz6953', 'dst': '46'}\n",
      "{'src': 'pz6953', 'dst': '46'}\n",
      "{'src': 'pz6915', 'dst': '46'}\n",
      "{'src': 'pz6953', 'dst': '46'}\n"
     ]
    },
    {
     "name": "stderr",
     "output_type": "stream",
     "text": [
      "  1%|          | 178/20000 [01:04<1:23:57,  3.94it/s]"
     ]
    },
    {
     "name": "stdout",
     "output_type": "stream",
     "text": [
      "{'src': 'pz6953', 'dst': '46'}\n",
      "{'src': 'pz6915', 'dst': '46'}\n",
      "{'src': 'pz6915', 'dst': '46'}\n",
      "{'src': 'pz6953', 'dst': '46'}\n",
      "{'src': 'pz6953', 'dst': '46'}\n",
      "{'src': 'pz6915', 'dst': '46'}\n",
      "{'src': 'pz6953', 'dst': '46'}\n",
      "{'src': 'pz6953', 'dst': '46'}\n",
      "{'src': 'pz6915', 'dst': '46'}\n",
      "{'src': 'pz6915', 'dst': '46'}\n",
      "{'src': 'pz6953', 'dst': '46'}\n",
      "{'src': 'pz6915', 'dst': '46'}\n",
      "{'src': 'pz6953', 'dst': '46'}\n"
     ]
    },
    {
     "name": "stderr",
     "output_type": "stream",
     "text": [
      "  1%|          | 186/20000 [01:05<46:09,  7.16it/s]  "
     ]
    },
    {
     "name": "stdout",
     "output_type": "stream",
     "text": [
      "{'src': 'pz6953', 'dst': '46'}\n",
      "{'src': 'pz6953', 'dst': '46'}\n",
      "{'src': 'pz6915', 'dst': '46'}\n",
      "{'src': 'pz6915', 'dst': '46'}\n",
      "{'src': 'pz6915', 'dst': '46'}\n",
      "{'src': 'pz6953', 'dst': '46'}\n",
      "{'src': 'pz6953', 'dst': '46'}\n",
      "{'src': 'pz6915', 'dst': '46'}\n",
      "{'src': 'pz6915', 'dst': '46'}\n",
      "{'src': 'pz6953', 'dst': '46'}\n",
      "{'src': 'pz6953', 'dst': '46'}\n",
      "{'src': 'pz6915', 'dst': '46'}\n",
      "{'src': 'pz6915', 'dst': '46'}\n",
      "{'src': 'pz6953', 'dst': '46'}\n",
      "{'src': 'pz6915', 'dst': '46'}\n",
      "{'src': 'pz6953', 'dst': '46'}\n"
     ]
    },
    {
     "name": "stderr",
     "output_type": "stream",
     "text": [
      "  1%|          | 194/20000 [01:05<27:43, 11.91it/s]"
     ]
    },
    {
     "name": "stdout",
     "output_type": "stream",
     "text": [
      "{'src': 'pz6953', 'dst': '46'}\n",
      "{'src': 'pz6915', 'dst': '46'}\n",
      "{'src': 'pz6953', 'dst': '46'}\n",
      "{'src': 'pz6953', 'dst': '46'}\n",
      "{'src': 'pz6953', 'dst': '46'}\n",
      "{'src': 'pz6915', 'dst': '46'}\n",
      "{'src': 'pz6953', 'dst': '46'}\n",
      "{'src': 'pz6953', 'dst': '46'}\n",
      "{'src': 'pz6953', 'dst': '46'}\n",
      "{'src': 'pz6953', 'dst': '46'}\n",
      "{'src': 'pz6953', 'dst': '46'}\n",
      "{'src': 'pz6953', 'dst': '46'}\n"
     ]
    },
    {
     "name": "stderr",
     "output_type": "stream",
     "text": [
      "  1%|          | 198/20000 [01:06<53:59,  6.11it/s]"
     ]
    },
    {
     "name": "stdout",
     "output_type": "stream",
     "text": [
      "{'src': 'pz6953', 'dst': '46'}\n",
      "{'src': 'pz6953', 'dst': '46'}\n",
      "{'src': 'pz6953', 'dst': '46'}\n"
     ]
    },
    {
     "name": "stderr",
     "output_type": "stream",
     "text": [
      "  1%|          | 199/20000 [01:46<2:56:17,  1.87it/s]\n"
     ]
    }
   ],
   "source": [
    "# Transformation constants\n",
    "START_INDEX = 2*60*fps+26*fps\n",
    "CORRECTIONS = {'OFFSET': (-252,-280), 'AFFINE': (1.8,2)}\n",
    "N = 20_000\n",
    "sprite_map = {\n",
    "    '24': 'plant_body',\n",
    "    # '25': 'root',\n",
    "    # '26': 'rabbit',\n",
    "    '25': 'plant_body',\n",
    "    '26': 'leaf',\n",
    "    '46': 'plant_body',\n",
    "    '47': 'leaf'\n",
    "}\n",
    "\n",
    "# Reset video and logs\n",
    "cap.set(cv2.CAP_PROP_POS_FRAMES, START_INDEX)\n",
    "game_state_pointer = 0\n",
    "game_event_pointer = -1\n",
    "game_state = None\n",
    "game_phase = GamePhaseState(phase='before_game')\n",
    "molecule_select_time = None\n",
    "\n",
    "for i in tqdm(range(N), total=N):\n",
    "    \n",
    "    ret, frame = cap.read()\n",
    "    if not ret:\n",
    "        break\n",
    "\n",
    "    frame_timestamp = (START_INDEX + i) / fps\n",
    "    frame = cv2.putText(\n",
    "        frame, \n",
    "        f\"{pd.Timestamp(frame_timestamp, unit='s').strftime('%H:%M:%S.%f')}\", \n",
    "        (5,30), \n",
    "        cv2.FONT_HERSHEY_SIMPLEX, \n",
    "        1, \n",
    "        (0,0,255), \n",
    "        1, \n",
    "        cv2.LINE_AA\n",
    "    )\n",
    "\n",
    "    # Obtaining game state\n",
    "    while game_state_logs['timestamp'].iloc[game_state_pointer+1] < frame_timestamp:\n",
    "        game_state_pointer += 1\n",
    "\n",
    "    new_game_state = GameState.from_json(game_state_logs.iloc[game_state_pointer].state)\n",
    "    if game_state:\n",
    "        for p in game_state.participants.values():\n",
    "            if p.id in new_game_state.participants:\n",
    "                p.position = new_game_state.participants[p.id].position\n",
    "    else:\n",
    "        game_state = new_game_state\n",
    "\n",
    "    # Processing events\n",
    "    while len(game_logs) > game_event_pointer+1 and game_logs['timestamp'].iloc[game_event_pointer+1] < frame_timestamp:\n",
    "\n",
    "        event = game_logs.iloc[game_event_pointer+1]\n",
    "        if event.event_type == 'game_reset':\n",
    "            game_phase.phase = 'before_game'\n",
    "            for p in game_state.participants.values():\n",
    "                p.state = 'O2'\n",
    "\n",
    "        elif event.event_type == 'state_update':\n",
    "            data = event.event_data.replace(\"“\", '\"')\n",
    "            data = data.replace(\"”\", '\"')\n",
    "            data = json.loads(data)\n",
    "            p = game_state.participants[data['id']]\n",
    "            assert data['state'] in ['H2O', 'CO2', 'Sugar', 'O2', 'Thinking_H2O']\n",
    "            p.state = data['state']\n",
    "\n",
    "        elif event.event_type == 'phase':\n",
    "            data = event.event_data.replace(\"“\", '\"')\n",
    "            data = data.replace(\"”\", '\"')\n",
    "            phase = json.loads(data)['phase']\n",
    "            assert phase in ['before_game', 'molecule_select', 'normal', 'paused']\n",
    "            game_phase.phase = phase\n",
    "\n",
    "            if phase == 'molecule_select':\n",
    "                molecule_select_time = event.timestamp\n",
    "\n",
    "        elif event.event_type == 'touch':\n",
    "            data = json.loads(event.event_data)\n",
    "            if 'pz' in data['src']:\n",
    "                if game_phase.phase == 'normal': # Only allow photosynthesis transitions\n",
    "                    \n",
    "                    # 'H2O', 'CO2', 'Sugar', 'O2', 'Thinking_H2O'\n",
    "                    p = game_state.participants[data['src']]\n",
    "\n",
    "                    # These two transitions will need manual annotation\n",
    "                    # if p.state == 'H2O' and sprite_map[data['dst']] == 'leaf':\n",
    "                    #     p.state = \n",
    "                    # elif p.state == 'CO2':\n",
    "                    #     ...\n",
    "                    \n",
    "                    if p.state == 'Sugar':\n",
    "                        if sprite_map[data['dst']] == 'root':\n",
    "                            p.state = 'H2O'\n",
    "                        elif sprite_map[data['dst']] == 'leaf' or sprite_map[data['dst']] == 'plant_body':\n",
    "                            p.state = 'Thinking_H2O'\n",
    "                    elif p.state == 'O2':\n",
    "                        print(data)\n",
    "                        # if sprite_map[data['dst']] == 'rabbit':\n",
    "                        #     p.state = 'CO2'\n",
    "                    elif p.state == 'Thinking_H2O' and sprite_map[data['dst']] == 'root':\n",
    "                        p.state = 'H2O'\n",
    "\n",
    "        game_event_pointer += 1\n",
    "\n",
    "    # For macro alignment\n",
    "    # frame = cv2.putText(\n",
    "    #     frame, \n",
    "    #     f\"{game_state_pointer}\", \n",
    "    #     (5,60), \n",
    "    #     cv2.FONT_HERSHEY_SIMPLEX,\n",
    "    #     1, \n",
    "    #     (0,0,255), \n",
    "    #     1, \n",
    "    #     cv2.LINE_AA\n",
    "    # )\n",
    "    frame = cv2.putText(\n",
    "        frame, \n",
    "        f\"{game_phase.phase}\", \n",
    "        (5,60), \n",
    "        cv2.FONT_HERSHEY_SIMPLEX,\n",
    "        1, \n",
    "        (0,0,255), \n",
    "        1, \n",
    "        cv2.LINE_AA\n",
    "    )\n",
    "\n",
    "    frame = render(game_state, frame, CORRECTIONS)\n",
    "\n",
    "    cv2.imshow('frame', imutils.resize(frame, width=1000))\n",
    "    if cv2.waitKey(0) & 0xFF == ord('q'):\n",
    "        break\n",
    "\n",
    "cv2.destroyAllWindows()"
   ]
  }
 ],
 "metadata": {
  "kernelspec": {
   "display_name": "ettk_dev",
   "language": "python",
   "name": "python3"
  },
  "language_info": {
   "codemirror_mode": {
    "name": "ipython",
    "version": 3
   },
   "file_extension": ".py",
   "mimetype": "text/x-python",
   "name": "python",
   "nbconvert_exporter": "python",
   "pygments_lexer": "ipython3",
   "version": "3.10.11"
  },
  "orig_nbformat": 4
 },
 "nbformat": 4,
 "nbformat_minor": 2
}
